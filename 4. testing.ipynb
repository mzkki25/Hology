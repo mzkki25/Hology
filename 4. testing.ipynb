{
 "cells": [
  {
   "cell_type": "code",
   "execution_count": 2,
   "metadata": {},
   "outputs": [
    {
     "name": "stdout",
     "output_type": "stream",
     "text": [
      "WARNING:tensorflow:From c:\\Users\\Akmal Muzakki\\anaconda3\\Lib\\site-packages\\tf_keras\\src\\losses.py:2976: The name tf.losses.sparse_softmax_cross_entropy is deprecated. Please use tf.compat.v1.losses.sparse_softmax_cross_entropy instead.\n",
      "\n"
     ]
    }
   ],
   "source": [
    "import tf_keras as tfk\n",
    "import pandas as pd\n",
    "import numpy as np\n",
    "\n",
    "from tf_keras.preprocessing.image import ImageDataGenerator"
   ]
  },
  {
   "cell_type": "code",
   "execution_count": 3,
   "metadata": {},
   "outputs": [],
   "source": [
    "TEST = \"preprocess-dataset/test_end\"\n",
    "TEST_CSV = \"base-dataset/sample_submission.csv\"\n",
    "\n",
    "IMG_WIDTH = 224\n",
    "IMG_HEIGHT = 224\n",
    "BATCH_SIZE = 64\n",
    "RANDOM_STATE = 42\n",
    "\n",
    "test_df = pd.read_csv(TEST_CSV)\n",
    "test_df['id'] = test_df['id'].astype('str') + '.png'\n",
    "test_df['jenis'] = test_df['jenis'].astype('str')\n",
    "test_df['warna'] = test_df['warna'].astype('str')"
   ]
  },
  {
   "cell_type": "code",
   "execution_count": 4,
   "metadata": {},
   "outputs": [
    {
     "name": "stdout",
     "output_type": "stream",
     "text": [
      "Found 334 validated image filenames.\n"
     ]
    }
   ],
   "source": [
    "test_generator = ImageDataGenerator(rescale=1./255).flow_from_dataframe(\n",
    "    dataframe=test_df,\n",
    "    directory=TEST,\n",
    "    x_col='id',\n",
    "    target_size=(IMG_WIDTH, IMG_HEIGHT), \n",
    "    batch_size=BATCH_SIZE,\n",
    "    class_mode=None,\n",
    "    shuffle=False,\n",
    "    seed=RANDOM_STATE\n",
    ")"
   ]
  },
  {
   "cell_type": "code",
   "execution_count": null,
   "metadata": {},
   "outputs": [],
   "source": [
    "bit_jenis = tfk.models.load_model('weight-model-final/bit_jenis.keras')\n",
    "bit_warna = tfk.models.load_model('weight-model-final/bit_warna.keras')\n",
    "\n",
    "pred_jenis = np.argmax(bit_jenis.predict(test_generator), axis=1).tolist()\n",
    "pred_warna = np.argmax(bit_warna.predict(test_generator), axis=1).tolist()\n",
    "\n",
    "test_df['jenis'] = pred_jenis\n",
    "test_df['warna'] = pred_warna\n",
    "\n",
    "test_df.to_csv('submission.csv', index=False)"
   ]
  }
 ],
 "metadata": {
  "kernelspec": {
   "display_name": "base",
   "language": "python",
   "name": "python3"
  },
  "language_info": {
   "codemirror_mode": {
    "name": "ipython",
    "version": 3
   },
   "file_extension": ".py",
   "mimetype": "text/x-python",
   "name": "python",
   "nbconvert_exporter": "python",
   "pygments_lexer": "ipython3",
   "version": "3.12.4"
  }
 },
 "nbformat": 4,
 "nbformat_minor": 2
}
